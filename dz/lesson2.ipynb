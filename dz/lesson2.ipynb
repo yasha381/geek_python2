{
 "cells": [
  {
   "cell_type": "code",
   "execution_count": 41,
   "metadata": {
    "scrolled": false
   },
   "outputs": [
    {
     "name": "stdout",
     "output_type": "stream",
     "text": [
      "\n",
      "Задание 1\n",
      "OrderedDict([('Изготовитель системы', 'LENOVO'), ('Название ОС', 'Microsoft Windows 7 Профессиональная'), ('Код продукта', '00971-OEM-1982661-00231'), ('Тип системы', 'x64-based PC')])\n",
      "OrderedDict([('Изготовитель системы', 'ACER'), ('Название ОС', 'Microsoft Windows 10 Professional'), ('Код продукта', '00971-OEM-1982661-00231'), ('Тип системы', 'x64-based PC')])\n",
      "OrderedDict([('Изготовитель системы', 'DELL'), ('Название ОС', 'Microsoft Windows 8.1 Professional'), ('Код продукта', '00971-OEM-1982661-00231'), ('Тип системы', 'x86-based PC')])\n"
     ]
    }
   ],
   "source": [
    "print(\"\\nЗадание 1\")\n",
    "\n",
    "import re\n",
    "import csv\n",
    "def get_data():\n",
    "    os_prod_list = []\n",
    "    os_name_list = []\n",
    "    os_code_list = []\n",
    "    os_type_list = []\n",
    "    \n",
    "    for file in [\"info_1.txt\", \"info_2.txt\", \"info_3.txt\"]:\n",
    "        with open(file, \"r\") as f_n:\n",
    "            info = f_n.readlines()\n",
    "            for el in info:\n",
    "                if re.search(r'Изготовитель системы:', el):\n",
    "                    el = el.replace('Изготовитель системы:', '')\n",
    "                    el = el.replace('\\n', '')\n",
    "                    el = el.strip(\" \")\n",
    "                    os_prod_list.append(el)\n",
    "                elif re.search(r'Название ОС:', el):\n",
    "                    el = el.replace('Название ОС:', '')\n",
    "                    el = el.replace('\\n', '')\n",
    "                    el = el.strip(\" \")\n",
    "                    os_name_list.append(el)\n",
    "                elif re.search(r'Код продукта:', el):\n",
    "                    el = el.replace('Код продукта:', '')\n",
    "                    el = el.replace('\\n', '')\n",
    "                    el =  el.strip(\" \")\n",
    "                    os_code_list.append(el)\n",
    "                elif re.search(r'Тип системы:', el):\n",
    "                    el = el.replace('Тип системы:', '')\n",
    "                    el = el.replace('\\n', '')\n",
    "                    el =  el.strip(\" \")\n",
    "                    os_type_list.append(el)\n",
    "    \n",
    "    main_data = []\n",
    "    main_data.append([\"Изготовитель системы\", \"Название ОС\", \"Код продукта\", \"Тип системы\"])\n",
    "    \n",
    "    for i in range(3):\n",
    "        main_data.append([os_prod_list[i], os_name_list[i], os_code_list[i], os_type_list[i]])\n",
    "        \n",
    "    return main_data\n",
    "    \n",
    "    \n",
    "def write_to_csv(path):\n",
    "    data = get_data()\n",
    "    with open(path, \"w\", encoding=\"utf-8\") as f_n:\n",
    "        f_n_writer = csv.writer(f_n)\n",
    "        for row in data:\n",
    "            f_n_writer.writerow(row)\n",
    "            \n",
    "write_to_csv(\"file.csv\")\n",
    "\n",
    "with open(\"file.csv\", \"r\", encoding=\"utf-8\") as f_n:\n",
    "        f_n_reader = csv.DictReader(f_n)\n",
    "        for row in f_n_reader:\n",
    "            print(row)"
   ]
  },
  {
   "cell_type": "code",
   "execution_count": 2,
   "metadata": {},
   "outputs": [
    {
     "name": "stdout",
     "output_type": "stream",
     "text": [
      "\n",
      "Задание 2\n",
      "Файла orders.json не существует. Он будет создан.\n",
      "Ключ 'orders' отсутствует. Он будет создан в виде массива.\n",
      "{'orders': [{'item': 'box', 'quantity': '16', 'price': '160', 'buyer': 'samsung', 'date': '29.10.2018'}, {'item': 'steel', 'quantity': '250', 'price': '5400', 'buyer': 'lenovo', 'date': '22.10.2018'}]}\n"
     ]
    }
   ],
   "source": [
    "print(\"\\nЗадание 2\")\n",
    "\n",
    "import json\n",
    "def write_order_to_json(item, quantity, price, buyer, date):\n",
    "    try:\n",
    "        with open(\"orders.json\", \"r\") as f_n:\n",
    "            objs = json.load(f_n)\n",
    "    except:\n",
    "        print(\"Файла orders.json не существует. Он будет создан.\")\n",
    "        objs = {}\n",
    "    \n",
    "    order = {\n",
    "        \"item\": item,\n",
    "        \"quantity\": quantity,\n",
    "        \"price\": price,\n",
    "        \"buyer\": buyer,\n",
    "        \"date\": date\n",
    "    }\n",
    "    if \"orders\" in objs:\n",
    "        objs[\"orders\"].append(order)\n",
    "    else:\n",
    "        print(\"Ключ 'orders' отсутствует. Он будет создан в виде массива.\")\n",
    "        objs[\"orders\"] = []\n",
    "        objs[\"orders\"].append(order)\n",
    "\n",
    "    \n",
    "    with open(\"orders.json\", \"w\") as f_n:\n",
    "        f_n.write(json.dumps(objs, indent=4))\n",
    "    \n",
    "    \n",
    "        \n",
    "write_order_to_json(\"box\", \"16\", \"160\", \"samsung\", \"29.10.2018\")\n",
    "write_order_to_json(\"steel\", \"250\", \"5400\", \"lenovo\", \"22.10.2018\")\n",
    "\n",
    "try:\n",
    "    with open(\"orders.json\", \"r\") as f_n:\n",
    "        objs = json.load(f_n)\n",
    "        print(objs)\n",
    "except:\n",
    "    print(\"Файла orders.json не существует\")"
   ]
  },
  {
   "cell_type": "code",
   "execution_count": 14,
   "metadata": {},
   "outputs": [
    {
     "name": "stdout",
     "output_type": "stream",
     "text": [
      "\n",
      "Задание 3\n",
      "{'dict': {'1': '35 ӕ', '2': '40 Ɔ', '3': '60 Ĕ'}, 'int': 25, 'list': ['1', 2, '3']}\n",
      "Данные совпадают\n"
     ]
    }
   ],
   "source": [
    "\n",
    "print(\"\\nЗадание 3\")\n",
    "\n",
    "import yaml\n",
    "\n",
    "data = {\n",
    "    \"list\": [\"1\", 2, \"3\"],\n",
    "    \"int\": 25,\n",
    "    \"dict\": {\n",
    "        \"1\": \"35 ӕ\",\n",
    "        \"2\": \"40 Ɔ\",\n",
    "        \"3\": \"60 Ĕ\",\n",
    "    }\n",
    "}\n",
    "\n",
    "with open('file.yaml', \"w\", encoding=\"utf-8\") as f_n:\n",
    "    yaml.dump(data, f_n, allow_unicode=True, default_flow_style=False)\n",
    "    \n",
    "with open('file.yaml', \"r\", encoding=\"utf-8\") as f_n:\n",
    "    f_n_content = yaml.load(f_n)\n",
    "    print(f_n_content)\n",
    "    if data == f_n_content:\n",
    "        print(\"Данные совпадают\")\n",
    "    else:\n",
    "        print(\"Данные не совпадают\")"
   ]
  },
  {
   "cell_type": "code",
   "execution_count": null,
   "metadata": {},
   "outputs": [],
   "source": []
  }
 ],
 "metadata": {
  "kernelspec": {
   "display_name": "Python 3",
   "language": "python",
   "name": "python3"
  },
  "language_info": {
   "codemirror_mode": {
    "name": "ipython",
    "version": 3
   },
   "file_extension": ".py",
   "mimetype": "text/x-python",
   "name": "python",
   "nbconvert_exporter": "python",
   "pygments_lexer": "ipython3",
   "version": "3.7.0"
  }
 },
 "nbformat": 4,
 "nbformat_minor": 2
}
